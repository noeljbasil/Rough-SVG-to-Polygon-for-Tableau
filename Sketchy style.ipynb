{
 "cells": [
  {
   "cell_type": "markdown",
   "metadata": {},
   "source": [
    "### This code takes the 'sketchy style svg' from https://fskpf.github.io/ as input and converts the svg paths into polygons (x,y coordinates) which can be plotted in Tableau"
   ]
  },
  {
   "cell_type": "code",
   "execution_count": 115,
   "metadata": {},
   "outputs": [],
   "source": [
    "#Importing required libraries\n",
    "import numpy as np\n",
    "import pandas as pd\n",
    "from xml.dom import minidom\n",
    "import os\n",
    "import svg.path as svg\n",
    "\n",
    "#Setting the directory to the relevant folder\n",
    "os.chdir('D:/Git Hub Repos and Code yard/Untitled Folder/')"
   ]
  },
  {
   "cell_type": "code",
   "execution_count": null,
   "metadata": {},
   "outputs": [],
   "source": [
    "#Load and parse SVG file into Python\n",
    "doc = minidom.parse(\"Sketchy.svg\")"
   ]
  },
  {
   "cell_type": "code",
   "execution_count": null,
   "metadata": {},
   "outputs": [],
   "source": [
    "#Get all the g tags. Note: g tags contain the paths\n",
    "rects = doc.getElementsByTagName(\"g\")\n",
    "\n",
    "#Instantiate a list to save the paths in each groups aka 'g tags'\n",
    "paths=[]\n",
    "\n",
    "#Loop through all the g tags\n",
    "for rect in rects:\n",
    "        if rect.getAttribute(\"clip-path\") != \"\":                #Paths for each shape is in g tags with 'clip-path' attribute\n",
    "            paths.append(rect.getElementsByTagName(\"path\")) \n",
    "\n",
    "#Above for loop creates 'paths' which is a list of lists. This is because each g tag contain two paths - one for outer boundary and other for sketchy fill lines of each shape"
   ]
  },
  {
   "cell_type": "code",
   "execution_count": null,
   "metadata": {},
   "outputs": [],
   "source": [
    "#Next task is to seperate out the paths of outer boundary and inner sketchy fill into two lists\n",
    "\n",
    "#Instatntiate two lists for the same\n",
    "out_paths=[]\n",
    "in_paths=[]\n",
    "\n",
    "#Loop through all the paths\n",
    "for path in paths:\n",
    "    in_paths.append(path[0].getAttribute('d'))                  #d attribute contains the string that defines the path\n",
    "    out_paths.append(path[1].getAttribute('d'))"
   ]
  },
  {
   "cell_type": "code",
   "execution_count": null,
   "metadata": {},
   "outputs": [],
   "source": [
    "#Now that we have separated out the d strings, we have to parse them back to path objects inorder to do further manipulations\n",
    "\n",
    "#Instatiate new lists to save parsed d strings\n",
    "out_paths_parsed=[]\n",
    "in_paths_parsed=[]\n",
    "\n",
    "#loop over each list and parse each d string element\n",
    "for i in range(0,len(out_path)):\n",
    "    out_paths_parsed.append(svg.parse_path(out_paths[i]))\n",
    "    in_paths_parsed.append(svg.parse_path(in_paths[i]))"
   ]
  },
  {
   "cell_type": "code",
   "execution_count": 160,
   "metadata": {},
   "outputs": [],
   "source": [
    "#Now let sample points from each path separately. First up the outer paths\n",
    "\n",
    "#Instantiate arrays for X cordinate,Y cordinate, Shape indicator (i.e, first bar, second bar etc in a bar chart), and order for plotting in tableau\n",
    "out_x=[]\n",
    "out_y=[]\n",
    "out_shape=[]\n",
    "out_order=[]\n",
    "\n",
    "for i in range(0,len(out_paths_parsed)):                        #looping through all the paths in the array\n",
    "    for o,j in enumerate(np.arange(0,1,1/4500),1):              #sampling 4500 points from each path\n",
    "        out_x.append(out_paths_parsed[i].point(j).real)         # extracting x coordinate; which is the real part\n",
    "        out_y.append(out_paths_parsed[i].point(j).imag)         # extracting y coordinate; which is the imag part\n",
    "        out_shape.append(i)                                     #Update shape list\n",
    "        out_order.append(o)                                     #Update order list\n",
    "\n",
    "#Now lets save the extracted information as a dataframe\n",
    "Outer_xy = pd.DataFrame({\"shape\":out_shape,\"order\":out_order,\"x coordinate\":out_x,\"y coordinate\":out_y})"
   ]
  },
  {
   "cell_type": "code",
   "execution_count": 161,
   "metadata": {},
   "outputs": [],
   "source": [
    "#Next up, lets recreate the above code for inner paths\n",
    "\n",
    "in_x=[]\n",
    "in_y=[]\n",
    "in_shape=[]\n",
    "in_order=[]\n",
    "for i in range(0,len(in_paths_parsed)):\n",
    "    for o,j in enumerate(np.arange(0,1,1/4500),1):              #Using arange because range() only accepts integers \n",
    "        in_x.append(in_paths_parsed[i].point(j).real)\n",
    "        in_y.append(in_paths_parsed[i].point(j).imag)\n",
    "        in_shape.append(i+20)                                   # Added 20 just to distinguish it from the shapes of out path\n",
    "        in_order.append(o)\n",
    "        \n",
    "#Now lets save this information as a dataframe as well\n",
    "Inner_xy = pd.DataFrame({\"shape\":in_shape,\"order\":in_order,\"x coordinate\":in_x,\"y coordinate\":in_y})"
   ]
  },
  {
   "cell_type": "code",
   "execution_count": 162,
   "metadata": {},
   "outputs": [],
   "source": [
    "#Lets combine both the dataframes and export as a csv\n",
    "\n",
    "Sketchy_style_backend=Outer_xy.append(Inner_xy)\n",
    "Sketchy_style_backend.to_csv('Sketchy_style_backend.csv')"
   ]
  },
  {
   "cell_type": "code",
   "execution_count": null,
   "metadata": {},
   "outputs": [],
   "source": []
  }
 ],
 "metadata": {
  "kernelspec": {
   "display_name": "Python 3",
   "language": "python",
   "name": "python3"
  },
  "language_info": {
   "codemirror_mode": {
    "name": "ipython",
    "version": 3
   },
   "file_extension": ".py",
   "mimetype": "text/x-python",
   "name": "python",
   "nbconvert_exporter": "python",
   "pygments_lexer": "ipython3",
   "version": "3.7.6"
  },
  "widgets": {
   "application/vnd.jupyter.widget-state+json": {
    "state": {},
    "version_major": 2,
    "version_minor": 0
   }
  }
 },
 "nbformat": 4,
 "nbformat_minor": 4
}
